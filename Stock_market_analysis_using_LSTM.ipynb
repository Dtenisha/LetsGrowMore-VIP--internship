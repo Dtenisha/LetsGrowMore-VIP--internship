{
  "nbformat": 4,
  "nbformat_minor": 0,
  "metadata": {
    "colab": {
      "name": "Stock_market_analysis using LSTM",
      "provenance": [],
      "collapsed_sections": [],
      "authorship_tag": "ABX9TyOGKWtexWupJd3tTlJaSgey",
      "include_colab_link": true
    },
    "kernelspec": {
      "name": "python3",
      "display_name": "Python 3"
    },
    "language_info": {
      "name": "python"
    }
  },
  "cells": [
    {
      "cell_type": "markdown",
      "metadata": {
        "id": "view-in-github",
        "colab_type": "text"
      },
      "source": [
        "<a href=\"https://colab.research.google.com/github/Dtenisha/LetsGrowMore-VIP--internship/blob/main/Stock_market_analysis_using_LSTM.ipynb\" target=\"_parent\"><img src=\"https://colab.research.google.com/assets/colab-badge.svg\" alt=\"Open In Colab\"/></a>"
      ]
    },
    {
      "cell_type": "markdown",
      "metadata": {
        "id": "HHTVxdFozoJ_"
      },
      "source": [
        "#LETS GROW MORE (VIP)\n",
        "##Beginner level task - Stock Market Prediction And Forecasting Using Stacked LSTM\n",
        "##OCTOBER - 2021\n",
        "#Submitted by TENISHA D"
      ]
    },
    {
      "cell_type": "code",
      "metadata": {
        "id": "jKRa7TuJrn4P"
      },
      "source": [
        "import pandas as pd\n",
        "import numpy as np"
      ],
      "execution_count": 2,
      "outputs": []
    },
    {
      "cell_type": "code",
      "metadata": {
        "id": "74zuRNC0XnQF"
      },
      "source": [
        ""
      ],
      "execution_count": null,
      "outputs": []
    },
    {
      "cell_type": "code",
      "metadata": {
        "id": "Mr34MyEGrzZl"
      },
      "source": [
        "stock_data = pd.read_csv('https://raw.githubusercontent.com/mwitiderrick/stockprice/master/NSE-TATAGLOBAL.csv')"
      ],
      "execution_count": 3,
      "outputs": []
    },
    {
      "cell_type": "code",
      "metadata": {
        "colab": {
          "base_uri": "https://localhost:8080/",
          "height": 203
        },
        "id": "UEDYg-McsM1U",
        "outputId": "84776aca-9082-4df2-b58b-fccb22f5d174"
      },
      "source": [
        "stock_data.head()"
      ],
      "execution_count": 4,
      "outputs": [
        {
          "output_type": "execute_result",
          "data": {
            "text/html": [
              "<div>\n",
              "<style scoped>\n",
              "    .dataframe tbody tr th:only-of-type {\n",
              "        vertical-align: middle;\n",
              "    }\n",
              "\n",
              "    .dataframe tbody tr th {\n",
              "        vertical-align: top;\n",
              "    }\n",
              "\n",
              "    .dataframe thead th {\n",
              "        text-align: right;\n",
              "    }\n",
              "</style>\n",
              "<table border=\"1\" class=\"dataframe\">\n",
              "  <thead>\n",
              "    <tr style=\"text-align: right;\">\n",
              "      <th></th>\n",
              "      <th>Date</th>\n",
              "      <th>Open</th>\n",
              "      <th>High</th>\n",
              "      <th>Low</th>\n",
              "      <th>Last</th>\n",
              "      <th>Close</th>\n",
              "      <th>Total Trade Quantity</th>\n",
              "      <th>Turnover (Lacs)</th>\n",
              "    </tr>\n",
              "  </thead>\n",
              "  <tbody>\n",
              "    <tr>\n",
              "      <th>0</th>\n",
              "      <td>2018-09-28</td>\n",
              "      <td>234.05</td>\n",
              "      <td>235.95</td>\n",
              "      <td>230.20</td>\n",
              "      <td>233.50</td>\n",
              "      <td>233.75</td>\n",
              "      <td>3069914</td>\n",
              "      <td>7162.35</td>\n",
              "    </tr>\n",
              "    <tr>\n",
              "      <th>1</th>\n",
              "      <td>2018-09-27</td>\n",
              "      <td>234.55</td>\n",
              "      <td>236.80</td>\n",
              "      <td>231.10</td>\n",
              "      <td>233.80</td>\n",
              "      <td>233.25</td>\n",
              "      <td>5082859</td>\n",
              "      <td>11859.95</td>\n",
              "    </tr>\n",
              "    <tr>\n",
              "      <th>2</th>\n",
              "      <td>2018-09-26</td>\n",
              "      <td>240.00</td>\n",
              "      <td>240.00</td>\n",
              "      <td>232.50</td>\n",
              "      <td>235.00</td>\n",
              "      <td>234.25</td>\n",
              "      <td>2240909</td>\n",
              "      <td>5248.60</td>\n",
              "    </tr>\n",
              "    <tr>\n",
              "      <th>3</th>\n",
              "      <td>2018-09-25</td>\n",
              "      <td>233.30</td>\n",
              "      <td>236.75</td>\n",
              "      <td>232.00</td>\n",
              "      <td>236.25</td>\n",
              "      <td>236.10</td>\n",
              "      <td>2349368</td>\n",
              "      <td>5503.90</td>\n",
              "    </tr>\n",
              "    <tr>\n",
              "      <th>4</th>\n",
              "      <td>2018-09-24</td>\n",
              "      <td>233.55</td>\n",
              "      <td>239.20</td>\n",
              "      <td>230.75</td>\n",
              "      <td>234.00</td>\n",
              "      <td>233.30</td>\n",
              "      <td>3423509</td>\n",
              "      <td>7999.55</td>\n",
              "    </tr>\n",
              "  </tbody>\n",
              "</table>\n",
              "</div>"
            ],
            "text/plain": [
              "         Date    Open    High  ...   Close  Total Trade Quantity  Turnover (Lacs)\n",
              "0  2018-09-28  234.05  235.95  ...  233.75               3069914          7162.35\n",
              "1  2018-09-27  234.55  236.80  ...  233.25               5082859         11859.95\n",
              "2  2018-09-26  240.00  240.00  ...  234.25               2240909          5248.60\n",
              "3  2018-09-25  233.30  236.75  ...  236.10               2349368          5503.90\n",
              "4  2018-09-24  233.55  239.20  ...  233.30               3423509          7999.55\n",
              "\n",
              "[5 rows x 8 columns]"
            ]
          },
          "metadata": {},
          "execution_count": 4
        }
      ]
    },
    {
      "cell_type": "code",
      "metadata": {
        "colab": {
          "base_uri": "https://localhost:8080/"
        },
        "id": "sV4jJ_7ss4XE",
        "outputId": "99da0dab-a71f-4430-ffac-1323a313d388"
      },
      "source": [
        "stock_data.columns"
      ],
      "execution_count": 5,
      "outputs": [
        {
          "output_type": "execute_result",
          "data": {
            "text/plain": [
              "Index(['Date', 'Open', 'High', 'Low', 'Last', 'Close', 'Total Trade Quantity',\n",
              "       'Turnover (Lacs)'],\n",
              "      dtype='object')"
            ]
          },
          "metadata": {},
          "execution_count": 5
        }
      ]
    },
    {
      "cell_type": "code",
      "metadata": {
        "colab": {
          "base_uri": "https://localhost:8080/"
        },
        "id": "yrVZpv3As7KP",
        "outputId": "7dafb577-1fd6-4d06-f87c-96cbcd154a6c"
      },
      "source": [
        "stock_data.shape"
      ],
      "execution_count": 6,
      "outputs": [
        {
          "output_type": "execute_result",
          "data": {
            "text/plain": [
              "(2035, 8)"
            ]
          },
          "metadata": {},
          "execution_count": 6
        }
      ]
    },
    {
      "cell_type": "code",
      "metadata": {
        "colab": {
          "base_uri": "https://localhost:8080/"
        },
        "id": "t5n0vv6Is_C9",
        "outputId": "067ec6b9-1388-4f39-997a-89eb976c1e92"
      },
      "source": [
        "stock_data.isna().sum()"
      ],
      "execution_count": 7,
      "outputs": [
        {
          "output_type": "execute_result",
          "data": {
            "text/plain": [
              "Date                    0\n",
              "Open                    0\n",
              "High                    0\n",
              "Low                     0\n",
              "Last                    0\n",
              "Close                   0\n",
              "Total Trade Quantity    0\n",
              "Turnover (Lacs)         0\n",
              "dtype: int64"
            ]
          },
          "metadata": {},
          "execution_count": 7
        }
      ]
    },
    {
      "cell_type": "code",
      "metadata": {
        "colab": {
          "base_uri": "https://localhost:8080/",
          "height": 297
        },
        "id": "a_xhqPIEtKrS",
        "outputId": "ca2b1fdf-d2b0-462b-eb0d-f370192238ac"
      },
      "source": [
        "stock_data.describe()"
      ],
      "execution_count": 8,
      "outputs": [
        {
          "output_type": "execute_result",
          "data": {
            "text/html": [
              "<div>\n",
              "<style scoped>\n",
              "    .dataframe tbody tr th:only-of-type {\n",
              "        vertical-align: middle;\n",
              "    }\n",
              "\n",
              "    .dataframe tbody tr th {\n",
              "        vertical-align: top;\n",
              "    }\n",
              "\n",
              "    .dataframe thead th {\n",
              "        text-align: right;\n",
              "    }\n",
              "</style>\n",
              "<table border=\"1\" class=\"dataframe\">\n",
              "  <thead>\n",
              "    <tr style=\"text-align: right;\">\n",
              "      <th></th>\n",
              "      <th>Open</th>\n",
              "      <th>High</th>\n",
              "      <th>Low</th>\n",
              "      <th>Last</th>\n",
              "      <th>Close</th>\n",
              "      <th>Total Trade Quantity</th>\n",
              "      <th>Turnover (Lacs)</th>\n",
              "    </tr>\n",
              "  </thead>\n",
              "  <tbody>\n",
              "    <tr>\n",
              "      <th>count</th>\n",
              "      <td>2035.000000</td>\n",
              "      <td>2035.000000</td>\n",
              "      <td>2035.000000</td>\n",
              "      <td>2035.000000</td>\n",
              "      <td>2035.00000</td>\n",
              "      <td>2.035000e+03</td>\n",
              "      <td>2035.000000</td>\n",
              "    </tr>\n",
              "    <tr>\n",
              "      <th>mean</th>\n",
              "      <td>149.713735</td>\n",
              "      <td>151.992826</td>\n",
              "      <td>147.293931</td>\n",
              "      <td>149.474251</td>\n",
              "      <td>149.45027</td>\n",
              "      <td>2.335681e+06</td>\n",
              "      <td>3899.980565</td>\n",
              "    </tr>\n",
              "    <tr>\n",
              "      <th>std</th>\n",
              "      <td>48.664509</td>\n",
              "      <td>49.413109</td>\n",
              "      <td>47.931958</td>\n",
              "      <td>48.732570</td>\n",
              "      <td>48.71204</td>\n",
              "      <td>2.091778e+06</td>\n",
              "      <td>4570.767877</td>\n",
              "    </tr>\n",
              "    <tr>\n",
              "      <th>min</th>\n",
              "      <td>81.100000</td>\n",
              "      <td>82.800000</td>\n",
              "      <td>80.000000</td>\n",
              "      <td>81.000000</td>\n",
              "      <td>80.95000</td>\n",
              "      <td>3.961000e+04</td>\n",
              "      <td>37.040000</td>\n",
              "    </tr>\n",
              "    <tr>\n",
              "      <th>25%</th>\n",
              "      <td>120.025000</td>\n",
              "      <td>122.100000</td>\n",
              "      <td>118.300000</td>\n",
              "      <td>120.075000</td>\n",
              "      <td>120.05000</td>\n",
              "      <td>1.146444e+06</td>\n",
              "      <td>1427.460000</td>\n",
              "    </tr>\n",
              "    <tr>\n",
              "      <th>50%</th>\n",
              "      <td>141.500000</td>\n",
              "      <td>143.400000</td>\n",
              "      <td>139.600000</td>\n",
              "      <td>141.100000</td>\n",
              "      <td>141.25000</td>\n",
              "      <td>1.783456e+06</td>\n",
              "      <td>2512.030000</td>\n",
              "    </tr>\n",
              "    <tr>\n",
              "      <th>75%</th>\n",
              "      <td>157.175000</td>\n",
              "      <td>159.400000</td>\n",
              "      <td>155.150000</td>\n",
              "      <td>156.925000</td>\n",
              "      <td>156.90000</td>\n",
              "      <td>2.813594e+06</td>\n",
              "      <td>4539.015000</td>\n",
              "    </tr>\n",
              "    <tr>\n",
              "      <th>max</th>\n",
              "      <td>327.700000</td>\n",
              "      <td>328.750000</td>\n",
              "      <td>321.650000</td>\n",
              "      <td>325.950000</td>\n",
              "      <td>325.75000</td>\n",
              "      <td>2.919102e+07</td>\n",
              "      <td>55755.080000</td>\n",
              "    </tr>\n",
              "  </tbody>\n",
              "</table>\n",
              "</div>"
            ],
            "text/plain": [
              "              Open         High  ...  Total Trade Quantity  Turnover (Lacs)\n",
              "count  2035.000000  2035.000000  ...          2.035000e+03      2035.000000\n",
              "mean    149.713735   151.992826  ...          2.335681e+06      3899.980565\n",
              "std      48.664509    49.413109  ...          2.091778e+06      4570.767877\n",
              "min      81.100000    82.800000  ...          3.961000e+04        37.040000\n",
              "25%     120.025000   122.100000  ...          1.146444e+06      1427.460000\n",
              "50%     141.500000   143.400000  ...          1.783456e+06      2512.030000\n",
              "75%     157.175000   159.400000  ...          2.813594e+06      4539.015000\n",
              "max     327.700000   328.750000  ...          2.919102e+07     55755.080000\n",
              "\n",
              "[8 rows x 7 columns]"
            ]
          },
          "metadata": {},
          "execution_count": 8
        }
      ]
    },
    {
      "cell_type": "code",
      "metadata": {
        "colab": {
          "base_uri": "https://localhost:8080/"
        },
        "id": "KkLktDwMtPsy",
        "outputId": "3a681292-eda5-46cf-d3d6-b9220f44d375"
      },
      "source": [
        "stock_data.info()"
      ],
      "execution_count": 9,
      "outputs": [
        {
          "output_type": "stream",
          "name": "stdout",
          "text": [
            "<class 'pandas.core.frame.DataFrame'>\n",
            "RangeIndex: 2035 entries, 0 to 2034\n",
            "Data columns (total 8 columns):\n",
            " #   Column                Non-Null Count  Dtype  \n",
            "---  ------                --------------  -----  \n",
            " 0   Date                  2035 non-null   object \n",
            " 1   Open                  2035 non-null   float64\n",
            " 2   High                  2035 non-null   float64\n",
            " 3   Low                   2035 non-null   float64\n",
            " 4   Last                  2035 non-null   float64\n",
            " 5   Close                 2035 non-null   float64\n",
            " 6   Total Trade Quantity  2035 non-null   int64  \n",
            " 7   Turnover (Lacs)       2035 non-null   float64\n",
            "dtypes: float64(6), int64(1), object(1)\n",
            "memory usage: 127.3+ KB\n"
          ]
        }
      ]
    },
    {
      "cell_type": "code",
      "metadata": {
        "id": "69qDIAl2p-Uq"
      },
      "source": [
        "import matplotlib.pyplot as plt\n",
        "import seaborn as sns"
      ],
      "execution_count": 10,
      "outputs": []
    },
    {
      "cell_type": "code",
      "metadata": {
        "colab": {
          "base_uri": "https://localhost:8080/",
          "height": 304
        },
        "id": "ERRVwVdRsZVy",
        "outputId": "a38c3185-c1de-4d12-c782-9c81bac8e3c3"
      },
      "source": [
        "plt.figure(figsize=(20,5))\n",
        "sns.lineplot(data=stock_data['Close'],color = 'g')"
      ],
      "execution_count": 14,
      "outputs": [
        {
          "output_type": "execute_result",
          "data": {
            "text/plain": [
              "<matplotlib.axes._subplots.AxesSubplot at 0x7f0ad7268310>"
            ]
          },
          "metadata": {},
          "execution_count": 14
        },
        {
          "output_type": "display_data",
          "data": {
            "image/png": "[encoded data removed]",
            "text/plain": [
              "<Figure size 1440x360 with 1 Axes>"
            ]
          },
          "metadata": {
            "needs_background": "light"
          }
        }
      ]
    },
    {
      "cell_type": "code",
      "metadata": {
        "colab": {
          "base_uri": "https://localhost:8080/",
          "height": 368
        },
        "id": "ZrfrUQM7WZ70",
        "outputId": "daec8400-be05-471b-9ea3-f252c09e5876"
      },
      "source": [
        "plt.figure(figsize=(20,5))\n",
        "sns.lineplot(data=stock_data['Total Trade Quantity'],color = 'brown')"
      ],
      "execution_count": 15,
      "outputs": [
        {
          "output_type": "execute_result",
          "data": {
            "text/plain": [
              "<matplotlib.axes._subplots.AxesSubplot at 0x7f0adbf92250>"
            ]
          },
          "metadata": {},
          "execution_count": 15
        },
        {
          "output_type": "display_data",
          "data": {
            "image/png": "[encoded data removed]",
            "text/plain": [
              "<Figure size 1440x360 with 1 Axes>"
            ]
          },
          "metadata": {
            "needs_background": "light"
          }
        }
      ]
    },
    {
      "cell_type": "code",
      "metadata": {
        "id": "npapuisAwUMs"
      },
      "source": [
        "from sklearn.preprocessing import MinMaxScaler\n",
        "scaler = MinMaxScaler(feature_range = (0,1))"
      ],
      "execution_count": 11,
      "outputs": []
    },
    {
      "cell_type": "code",
      "metadata": {
        "id": "A13oaxdkv9S6"
      },
      "source": [
        "df = scaler.fit_transform(np.array(stock_data['Close']).reshape(-1,1))\n"
      ],
      "execution_count": 12,
      "outputs": []
    },
    {
      "cell_type": "code",
      "metadata": {
        "colab": {
          "base_uri": "https://localhost:8080/"
        },
        "id": "GPpwNe094XJW",
        "outputId": "e5277a40-9017-4320-cac0-ffa1b1f416a8"
      },
      "source": [
        "print(df)"
      ],
      "execution_count": 13,
      "outputs": [
        {
          "output_type": "stream",
          "name": "stdout",
          "text": [
            "[[0.62418301]\n",
            " [0.62214052]\n",
            " [0.62622549]\n",
            " ...\n",
            " [0.1621732 ]\n",
            " [0.16319444]\n",
            " [0.16584967]]\n"
          ]
        }
      ]
    },
    {
      "cell_type": "code",
      "metadata": {
        "colab": {
          "base_uri": "https://localhost:8080/",
          "height": 419
        },
        "id": "oqGBiF0m4ZgO",
        "outputId": "5aedea0d-be1d-4748-d5ea-9868d1feb96b"
      },
      "source": [
        "\n",
        "stock_data.sort_values(by = 'Date',ascending=True)"
      ],
      "execution_count": 14,
      "outputs": [
        {
          "output_type": "execute_result",
          "data": {
            "text/html": [
              "<div>\n",
              "<style scoped>\n",
              "    .dataframe tbody tr th:only-of-type {\n",
              "        vertical-align: middle;\n",
              "    }\n",
              "\n",
              "    .dataframe tbody tr th {\n",
              "        vertical-align: top;\n",
              "    }\n",
              "\n",
              "    .dataframe thead th {\n",
              "        text-align: right;\n",
              "    }\n",
              "</style>\n",
              "<table border=\"1\" class=\"dataframe\">\n",
              "  <thead>\n",
              "    <tr style=\"text-align: right;\">\n",
              "      <th></th>\n",
              "      <th>Date</th>\n",
              "      <th>Open</th>\n",
              "      <th>High</th>\n",
              "      <th>Low</th>\n",
              "      <th>Last</th>\n",
              "      <th>Close</th>\n",
              "      <th>Total Trade Quantity</th>\n",
              "      <th>Turnover (Lacs)</th>\n",
              "    </tr>\n",
              "  </thead>\n",
              "  <tbody>\n",
              "    <tr>\n",
              "      <th>2034</th>\n",
              "      <td>2010-07-21</td>\n",
              "      <td>122.10</td>\n",
              "      <td>123.00</td>\n",
              "      <td>121.05</td>\n",
              "      <td>121.10</td>\n",
              "      <td>121.55</td>\n",
              "      <td>658666</td>\n",
              "      <td>803.56</td>\n",
              "    </tr>\n",
              "    <tr>\n",
              "      <th>2033</th>\n",
              "      <td>2010-07-22</td>\n",
              "      <td>120.30</td>\n",
              "      <td>122.00</td>\n",
              "      <td>120.25</td>\n",
              "      <td>120.75</td>\n",
              "      <td>120.90</td>\n",
              "      <td>293312</td>\n",
              "      <td>355.17</td>\n",
              "    </tr>\n",
              "    <tr>\n",
              "      <th>2032</th>\n",
              "      <td>2010-07-23</td>\n",
              "      <td>121.80</td>\n",
              "      <td>121.95</td>\n",
              "      <td>120.25</td>\n",
              "      <td>120.35</td>\n",
              "      <td>120.65</td>\n",
              "      <td>281312</td>\n",
              "      <td>340.31</td>\n",
              "    </tr>\n",
              "    <tr>\n",
              "      <th>2031</th>\n",
              "      <td>2010-07-26</td>\n",
              "      <td>120.10</td>\n",
              "      <td>121.00</td>\n",
              "      <td>117.10</td>\n",
              "      <td>117.10</td>\n",
              "      <td>117.60</td>\n",
              "      <td>658440</td>\n",
              "      <td>780.01</td>\n",
              "    </tr>\n",
              "    <tr>\n",
              "      <th>2030</th>\n",
              "      <td>2010-07-27</td>\n",
              "      <td>117.60</td>\n",
              "      <td>119.50</td>\n",
              "      <td>112.00</td>\n",
              "      <td>118.80</td>\n",
              "      <td>118.65</td>\n",
              "      <td>586100</td>\n",
              "      <td>694.98</td>\n",
              "    </tr>\n",
              "    <tr>\n",
              "      <th>...</th>\n",
              "      <td>...</td>\n",
              "      <td>...</td>\n",
              "      <td>...</td>\n",
              "      <td>...</td>\n",
              "      <td>...</td>\n",
              "      <td>...</td>\n",
              "      <td>...</td>\n",
              "      <td>...</td>\n",
              "    </tr>\n",
              "    <tr>\n",
              "      <th>4</th>\n",
              "      <td>2018-09-24</td>\n",
              "      <td>233.55</td>\n",
              "      <td>239.20</td>\n",
              "      <td>230.75</td>\n",
              "      <td>234.00</td>\n",
              "      <td>233.30</td>\n",
              "      <td>3423509</td>\n",
              "      <td>7999.55</td>\n",
              "    </tr>\n",
              "    <tr>\n",
              "      <th>3</th>\n",
              "      <td>2018-09-25</td>\n",
              "      <td>233.30</td>\n",
              "      <td>236.75</td>\n",
              "      <td>232.00</td>\n",
              "      <td>236.25</td>\n",
              "      <td>236.10</td>\n",
              "      <td>2349368</td>\n",
              "      <td>5503.90</td>\n",
              "    </tr>\n",
              "    <tr>\n",
              "      <th>2</th>\n",
              "      <td>2018-09-26</td>\n",
              "      <td>240.00</td>\n",
              "      <td>240.00</td>\n",
              "      <td>232.50</td>\n",
              "      <td>235.00</td>\n",
              "      <td>234.25</td>\n",
              "      <td>2240909</td>\n",
              "      <td>5248.60</td>\n",
              "    </tr>\n",
              "    <tr>\n",
              "      <th>1</th>\n",
              "      <td>2018-09-27</td>\n",
              "      <td>234.55</td>\n",
              "      <td>236.80</td>\n",
              "      <td>231.10</td>\n",
              "      <td>233.80</td>\n",
              "      <td>233.25</td>\n",
              "      <td>5082859</td>\n",
              "      <td>11859.95</td>\n",
              "    </tr>\n",
              "    <tr>\n",
              "      <th>0</th>\n",
              "      <td>2018-09-28</td>\n",
              "      <td>234.05</td>\n",
              "      <td>235.95</td>\n",
              "      <td>230.20</td>\n",
              "      <td>233.50</td>\n",
              "      <td>233.75</td>\n",
              "      <td>3069914</td>\n",
              "      <td>7162.35</td>\n",
              "    </tr>\n",
              "  </tbody>\n",
              "</table>\n",
              "<p>2035 rows × 8 columns</p>\n",
              "</div>"
            ],
            "text/plain": [
              "            Date    Open    High  ...   Close  Total Trade Quantity  Turnover (Lacs)\n",
              "2034  2010-07-21  122.10  123.00  ...  121.55                658666           803.56\n",
              "2033  2010-07-22  120.30  122.00  ...  120.90                293312           355.17\n",
              "2032  2010-07-23  121.80  121.95  ...  120.65                281312           340.31\n",
              "2031  2010-07-26  120.10  121.00  ...  117.60                658440           780.01\n",
              "2030  2010-07-27  117.60  119.50  ...  118.65                586100           694.98\n",
              "...          ...     ...     ...  ...     ...                   ...              ...\n",
              "4     2018-09-24  233.55  239.20  ...  233.30               3423509          7999.55\n",
              "3     2018-09-25  233.30  236.75  ...  236.10               2349368          5503.90\n",
              "2     2018-09-26  240.00  240.00  ...  234.25               2240909          5248.60\n",
              "1     2018-09-27  234.55  236.80  ...  233.25               5082859         11859.95\n",
              "0     2018-09-28  234.05  235.95  ...  233.75               3069914          7162.35\n",
              "\n",
              "[2035 rows x 8 columns]"
            ]
          },
          "metadata": {},
          "execution_count": 14
        }
      ]
    },
    {
      "cell_type": "code",
      "metadata": {
        "id": "uyAFK9IK6Qy2"
      },
      "source": [
        "#train and test split\n",
        "train_size = int(len(df)*0.65)\n",
        "test_size = int(len(df)-train_size)\n",
        "train_data,test_data = df[0:train_size,:],df[train_size:len(df),:1]\n",
        "              "
      ],
      "execution_count": 15,
      "outputs": []
    },
    {
      "cell_type": "code",
      "metadata": {
        "colab": {
          "base_uri": "https://localhost:8080/"
        },
        "id": "KYiBbP0v7VhK",
        "outputId": "97683398-adce-4848-a9bc-a52387c32111"
      },
      "source": [
        "train_size,test_size"
      ],
      "execution_count": 16,
      "outputs": [
        {
          "output_type": "execute_result",
          "data": {
            "text/plain": [
              "(1322, 713)"
            ]
          },
          "metadata": {},
          "execution_count": 16
        }
      ]
    },
    {
      "cell_type": "code",
      "metadata": {
        "id": "3TwL5Jdj7atK"
      },
      "source": [
        "def create_data(data,time_step=1):\n",
        "  datax,datay = [],[]\n",
        "  for i in range(len(data)-time_step-1):\n",
        "    a = data[i:(i+time_step),0]\n",
        "    datax.append(a)\n",
        "    datay.append(data[i+time_step,0])\n",
        "  return np.array(datax),np.array(datay)"
      ],
      "execution_count": 17,
      "outputs": []
    },
    {
      "cell_type": "code",
      "metadata": {
        "id": "j7AYlOnY9dja"
      },
      "source": [
        "time_step = 250\n",
        "x_train,y_train = create_data(train_data,time_step)\n",
        "x_test,y_test = create_data(test_data,time_step)"
      ],
      "execution_count": 18,
      "outputs": []
    },
    {
      "cell_type": "code",
      "metadata": {
        "id": "44hlIqZF9wkm"
      },
      "source": [
        "x_train = x_train.reshape(x_train.shape[0],x_train.shape[1],1)\n",
        "x_test = x_test.reshape(x_test.shape[0],x_test.shape[1],1)"
      ],
      "execution_count": 19,
      "outputs": []
    },
    {
      "cell_type": "code",
      "metadata": {
        "id": "jK8yBlaL9wg5"
      },
      "source": [
        "### create stacked LSTM model\n",
        "from tensorflow.keras.models import Sequential\n",
        "from tensorflow.keras.layers import Dense\n",
        "from tensorflow.keras.layers import LSTM"
      ],
      "execution_count": 20,
      "outputs": []
    },
    {
      "cell_type": "code",
      "metadata": {
        "id": "1dfkezf89wer"
      },
      "source": [
        "model = Sequential()\n",
        "model.add(LSTM(50,return_sequences=True,input_shape = (250,1)))\n",
        "model.add(LSTM(50,return_sequences=True))\n",
        "model.add(LSTM(50))\n",
        "model.add(Dense(1))\n",
        "model.compile(loss = 'mean_squared_error',optimizer = 'adam')\n",
        "\n"
      ],
      "execution_count": 21,
      "outputs": []
    },
    {
      "cell_type": "code",
      "metadata": {
        "colab": {
          "base_uri": "https://localhost:8080/"
        },
        "id": "LaxTL_y49wcX",
        "outputId": "4cdf0d4b-cb9a-468d-c150-7371e16d5818"
      },
      "source": [
        "model.summary()"
      ],
      "execution_count": 22,
      "outputs": [
        {
          "output_type": "stream",
          "name": "stdout",
          "text": [
            "Model: \"sequential\"\n",
            "_________________________________________________________________\n",
            "Layer (type)                 Output Shape              Param #   \n",
            "=================================================================\n",
            "lstm (LSTM)                  (None, 250, 50)           10400     \n",
            "_________________________________________________________________\n",
            "lstm_1 (LSTM)                (None, 250, 50)           20200     \n",
            "_________________________________________________________________\n",
            "lstm_2 (LSTM)                (None, 50)                20200     \n",
            "_________________________________________________________________\n",
            "dense (Dense)                (None, 1)                 51        \n",
            "=================================================================\n",
            "Total params: 50,851\n",
            "Trainable params: 50,851\n",
            "Non-trainable params: 0\n",
            "_________________________________________________________________\n"
          ]
        }
      ]
    },
    {
      "cell_type": "code",
      "metadata": {
        "colab": {
          "base_uri": "https://localhost:8080/"
        },
        "id": "rd74XP7y9wZq",
        "outputId": "59829783-084f-48f3-8fa0-a8d0d0c4e416"
      },
      "source": [
        "model.fit(x_train,y_train,validation_data=(x_test,y_test),epochs = 250,batch_size=64,verbose = 1)"
      ],
      "execution_count": 23,
      "outputs": [
        {
          "output_type": "stream",
          "name": "stdout",
          "text": [
            "Epoch 1/250\n",
            "17/17 [==============================] - 14s 554ms/step - loss: 0.0137 - val_loss: 0.0036\n",
            "Epoch 2/250\n",
            "17/17 [==============================] - 8s 479ms/step - loss: 0.0018 - val_loss: 0.0035\n",
            "Epoch 3/250\n",
            "17/17 [==============================] - 8s 481ms/step - loss: 0.0013 - val_loss: 0.0028\n",
            "Epoch 4/250\n",
            "17/17 [==============================] - 8s 480ms/step - loss: 0.0010 - val_loss: 0.0018\n",
            "Epoch 5/250\n",
            "17/17 [==============================] - 8s 476ms/step - loss: 9.5543e-04 - val_loss: 0.0015\n",
            "Epoch 6/250\n",
            "17/17 [==============================] - 8s 474ms/step - loss: 8.9353e-04 - val_loss: 0.0011\n",
            "Epoch 7/250\n",
            "17/17 [==============================] - 8s 478ms/step - loss: 8.5858e-04 - val_loss: 0.0010\n",
            "Epoch 8/250\n",
            "17/17 [==============================] - 8s 477ms/step - loss: 8.6156e-04 - val_loss: 0.0012\n",
            "Epoch 9/250\n",
            "17/17 [==============================] - 8s 479ms/step - loss: 8.2986e-04 - val_loss: 0.0010\n",
            "Epoch 10/250\n",
            "17/17 [==============================] - 8s 479ms/step - loss: 8.1334e-04 - val_loss: 0.0010\n",
            "Epoch 11/250\n",
            "17/17 [==============================] - 8s 476ms/step - loss: 8.0612e-04 - val_loss: 8.8203e-04\n",
            "Epoch 12/250\n",
            "17/17 [==============================] - 8s 483ms/step - loss: 8.3625e-04 - val_loss: 0.0012\n",
            "Epoch 13/250\n",
            "17/17 [==============================] - 8s 480ms/step - loss: 8.1106e-04 - val_loss: 0.0010\n",
            "Epoch 14/250\n",
            "17/17 [==============================] - 8s 479ms/step - loss: 7.6191e-04 - val_loss: 8.8099e-04\n",
            "Epoch 15/250\n",
            "17/17 [==============================] - 8s 478ms/step - loss: 8.2088e-04 - val_loss: 6.9398e-04\n",
            "Epoch 16/250\n",
            "17/17 [==============================] - 8s 480ms/step - loss: 7.2194e-04 - val_loss: 0.0010\n",
            "Epoch 17/250\n",
            "17/17 [==============================] - 8s 474ms/step - loss: 7.0474e-04 - val_loss: 8.0331e-04\n",
            "Epoch 18/250\n",
            "17/17 [==============================] - 8s 483ms/step - loss: 6.8234e-04 - val_loss: 7.0132e-04\n",
            "Epoch 19/250\n",
            "17/17 [==============================] - 8s 479ms/step - loss: 6.8675e-04 - val_loss: 6.0533e-04\n",
            "Epoch 20/250\n",
            "17/17 [==============================] - 8s 479ms/step - loss: 6.9951e-04 - val_loss: 8.5407e-04\n",
            "Epoch 21/250\n",
            "17/17 [==============================] - 8s 480ms/step - loss: 6.4666e-04 - val_loss: 7.3502e-04\n",
            "Epoch 22/250\n",
            "17/17 [==============================] - 8s 481ms/step - loss: 6.1109e-04 - val_loss: 7.5119e-04\n",
            "Epoch 23/250\n",
            "17/17 [==============================] - 8s 484ms/step - loss: 5.9739e-04 - val_loss: 7.2625e-04\n",
            "Epoch 24/250\n",
            "17/17 [==============================] - 8s 480ms/step - loss: 5.9414e-04 - val_loss: 5.1334e-04\n",
            "Epoch 25/250\n",
            "17/17 [==============================] - 8s 477ms/step - loss: 5.9293e-04 - val_loss: 7.9525e-04\n",
            "Epoch 26/250\n",
            "17/17 [==============================] - 8s 482ms/step - loss: 5.6947e-04 - val_loss: 6.7264e-04\n",
            "Epoch 27/250\n",
            "17/17 [==============================] - 8s 483ms/step - loss: 5.6062e-04 - val_loss: 5.1221e-04\n",
            "Epoch 28/250\n",
            "17/17 [==============================] - 8s 485ms/step - loss: 5.6150e-04 - val_loss: 6.7684e-04\n",
            "Epoch 29/250\n",
            "17/17 [==============================] - 8s 478ms/step - loss: 5.4230e-04 - val_loss: 5.3437e-04\n",
            "Epoch 30/250\n",
            "17/17 [==============================] - 8s 479ms/step - loss: 5.5209e-04 - val_loss: 5.0545e-04\n",
            "Epoch 31/250\n",
            "17/17 [==============================] - 8s 472ms/step - loss: 5.4816e-04 - val_loss: 6.2491e-04\n",
            "Epoch 32/250\n",
            "17/17 [==============================] - 8s 480ms/step - loss: 4.9863e-04 - val_loss: 4.7827e-04\n",
            "Epoch 33/250\n",
            "17/17 [==============================] - 8s 483ms/step - loss: 5.2330e-04 - val_loss: 6.7324e-04\n",
            "Epoch 34/250\n",
            "17/17 [==============================] - 8s 483ms/step - loss: 4.7441e-04 - val_loss: 5.9010e-04\n",
            "Epoch 35/250\n",
            "17/17 [==============================] - 8s 485ms/step - loss: 4.8750e-04 - val_loss: 4.3825e-04\n",
            "Epoch 36/250\n",
            "17/17 [==============================] - 8s 477ms/step - loss: 4.6207e-04 - val_loss: 5.2192e-04\n",
            "Epoch 37/250\n",
            "17/17 [==============================] - 8s 487ms/step - loss: 4.7287e-04 - val_loss: 4.8337e-04\n",
            "Epoch 38/250\n",
            "17/17 [==============================] - 8s 480ms/step - loss: 4.6629e-04 - val_loss: 5.3722e-04\n",
            "Epoch 39/250\n",
            "17/17 [==============================] - 8s 491ms/step - loss: 4.4647e-04 - val_loss: 4.6192e-04\n",
            "Epoch 40/250\n",
            "17/17 [==============================] - 8s 484ms/step - loss: 4.3357e-04 - val_loss: 5.1242e-04\n",
            "Epoch 41/250\n",
            "17/17 [==============================] - 8s 482ms/step - loss: 4.4358e-04 - val_loss: 3.5160e-04\n",
            "Epoch 42/250\n",
            "17/17 [==============================] - 8s 483ms/step - loss: 4.5614e-04 - val_loss: 4.9361e-04\n",
            "Epoch 43/250\n",
            "17/17 [==============================] - 8s 485ms/step - loss: 4.2911e-04 - val_loss: 3.9395e-04\n",
            "Epoch 44/250\n",
            "17/17 [==============================] - 8s 485ms/step - loss: 4.4989e-04 - val_loss: 3.8649e-04\n",
            "Epoch 45/250\n",
            "17/17 [==============================] - 8s 488ms/step - loss: 4.0687e-04 - val_loss: 4.7113e-04\n",
            "Epoch 46/250\n",
            "17/17 [==============================] - 8s 483ms/step - loss: 3.9356e-04 - val_loss: 3.5391e-04\n",
            "Epoch 47/250\n",
            "17/17 [==============================] - 8s 485ms/step - loss: 3.7684e-04 - val_loss: 4.6529e-04\n",
            "Epoch 48/250\n",
            "17/17 [==============================] - 8s 484ms/step - loss: 3.9266e-04 - val_loss: 3.5940e-04\n",
            "Epoch 49/250\n",
            "17/17 [==============================] - 8s 481ms/step - loss: 3.7805e-04 - val_loss: 3.9871e-04\n",
            "Epoch 50/250\n",
            "17/17 [==============================] - 8s 483ms/step - loss: 3.6346e-04 - val_loss: 3.4283e-04\n",
            "Epoch 51/250\n",
            "17/17 [==============================] - 8s 494ms/step - loss: 3.6523e-04 - val_loss: 3.2146e-04\n",
            "Epoch 52/250\n",
            "17/17 [==============================] - 8s 482ms/step - loss: 3.5169e-04 - val_loss: 3.5802e-04\n",
            "Epoch 53/250\n",
            "17/17 [==============================] - 8s 486ms/step - loss: 3.1525e-04 - val_loss: 2.8571e-04\n",
            "Epoch 54/250\n",
            "17/17 [==============================] - 8s 487ms/step - loss: 3.1399e-04 - val_loss: 3.5884e-04\n",
            "Epoch 55/250\n",
            "17/17 [==============================] - 8s 486ms/step - loss: 3.3520e-04 - val_loss: 3.5557e-04\n",
            "Epoch 56/250\n",
            "17/17 [==============================] - 8s 491ms/step - loss: 3.0637e-04 - val_loss: 2.7198e-04\n",
            "Epoch 57/250\n",
            "17/17 [==============================] - 8s 481ms/step - loss: 3.4487e-04 - val_loss: 3.6353e-04\n",
            "Epoch 58/250\n",
            "17/17 [==============================] - 8s 491ms/step - loss: 2.9149e-04 - val_loss: 2.8199e-04\n",
            "Epoch 59/250\n",
            "17/17 [==============================] - 8s 485ms/step - loss: 2.8957e-04 - val_loss: 2.8667e-04\n",
            "Epoch 60/250\n",
            "17/17 [==============================] - 8s 487ms/step - loss: 2.7183e-04 - val_loss: 2.6802e-04\n",
            "Epoch 61/250\n",
            "17/17 [==============================] - 8s 483ms/step - loss: 2.6838e-04 - val_loss: 2.4408e-04\n",
            "Epoch 62/250\n",
            "17/17 [==============================] - 8s 487ms/step - loss: 2.6083e-04 - val_loss: 2.6832e-04\n",
            "Epoch 63/250\n",
            "17/17 [==============================] - 8s 484ms/step - loss: 2.4659e-04 - val_loss: 2.2737e-04\n",
            "Epoch 64/250\n",
            "17/17 [==============================] - 8s 484ms/step - loss: 2.9193e-04 - val_loss: 2.2871e-04\n",
            "Epoch 65/250\n",
            "17/17 [==============================] - 8s 492ms/step - loss: 3.3122e-04 - val_loss: 2.4623e-04\n",
            "Epoch 66/250\n",
            "17/17 [==============================] - 8s 480ms/step - loss: 2.5819e-04 - val_loss: 2.2970e-04\n",
            "Epoch 67/250\n",
            "17/17 [==============================] - 8s 487ms/step - loss: 2.4110e-04 - val_loss: 2.3920e-04\n",
            "Epoch 68/250\n",
            "17/17 [==============================] - 8s 487ms/step - loss: 2.4553e-04 - val_loss: 2.5135e-04\n",
            "Epoch 69/250\n",
            "17/17 [==============================] - 8s 484ms/step - loss: 2.6372e-04 - val_loss: 2.6333e-04\n",
            "Epoch 70/250\n",
            "17/17 [==============================] - 8s 491ms/step - loss: 2.4923e-04 - val_loss: 2.6353e-04\n",
            "Epoch 71/250\n",
            "17/17 [==============================] - 8s 484ms/step - loss: 2.2064e-04 - val_loss: 2.3779e-04\n",
            "Epoch 72/250\n",
            "17/17 [==============================] - 8s 499ms/step - loss: 2.1309e-04 - val_loss: 2.0388e-04\n",
            "Epoch 73/250\n",
            "17/17 [==============================] - 8s 483ms/step - loss: 2.1065e-04 - val_loss: 2.2326e-04\n",
            "Epoch 74/250\n",
            "17/17 [==============================] - 8s 487ms/step - loss: 2.0817e-04 - val_loss: 2.2155e-04\n",
            "Epoch 75/250\n",
            "17/17 [==============================] - 8s 486ms/step - loss: 2.1770e-04 - val_loss: 2.0991e-04\n",
            "Epoch 76/250\n",
            "17/17 [==============================] - 8s 491ms/step - loss: 2.1030e-04 - val_loss: 2.5832e-04\n",
            "Epoch 77/250\n",
            "17/17 [==============================] - 8s 490ms/step - loss: 2.2288e-04 - val_loss: 2.3009e-04\n",
            "Epoch 78/250\n",
            "17/17 [==============================] - 8s 476ms/step - loss: 2.1737e-04 - val_loss: 1.9365e-04\n",
            "Epoch 79/250\n",
            "17/17 [==============================] - 8s 486ms/step - loss: 2.2455e-04 - val_loss: 2.5087e-04\n",
            "Epoch 80/250\n",
            "17/17 [==============================] - 8s 480ms/step - loss: 2.4169e-04 - val_loss: 2.5972e-04\n",
            "Epoch 81/250\n",
            "17/17 [==============================] - 8s 490ms/step - loss: 2.1158e-04 - val_loss: 2.1092e-04\n",
            "Epoch 82/250\n",
            "17/17 [==============================] - 8s 484ms/step - loss: 1.9928e-04 - val_loss: 2.5288e-04\n",
            "Epoch 83/250\n",
            "17/17 [==============================] - 8s 482ms/step - loss: 2.2238e-04 - val_loss: 1.8486e-04\n",
            "Epoch 84/250\n",
            "17/17 [==============================] - 8s 487ms/step - loss: 2.0623e-04 - val_loss: 1.6994e-04\n",
            "Epoch 85/250\n",
            "17/17 [==============================] - 8s 480ms/step - loss: 1.9843e-04 - val_loss: 1.7070e-04\n",
            "Epoch 86/250\n",
            "17/17 [==============================] - 8s 495ms/step - loss: 1.9484e-04 - val_loss: 1.6967e-04\n",
            "Epoch 87/250\n",
            "17/17 [==============================] - 8s 483ms/step - loss: 1.9017e-04 - val_loss: 1.7734e-04\n",
            "Epoch 88/250\n",
            "17/17 [==============================] - 8s 490ms/step - loss: 1.6958e-04 - val_loss: 1.7740e-04\n",
            "Epoch 89/250\n",
            "17/17 [==============================] - 8s 488ms/step - loss: 1.6317e-04 - val_loss: 1.5979e-04\n",
            "Epoch 90/250\n",
            "17/17 [==============================] - 8s 481ms/step - loss: 1.7746e-04 - val_loss: 1.8104e-04\n",
            "Epoch 91/250\n",
            "17/17 [==============================] - 8s 498ms/step - loss: 1.7567e-04 - val_loss: 2.4401e-04\n",
            "Epoch 92/250\n",
            "17/17 [==============================] - 8s 485ms/step - loss: 1.9447e-04 - val_loss: 1.6708e-04\n",
            "Epoch 93/250\n",
            "17/17 [==============================] - 8s 492ms/step - loss: 2.2231e-04 - val_loss: 1.7075e-04\n",
            "Epoch 94/250\n",
            "17/17 [==============================] - 8s 485ms/step - loss: 2.3450e-04 - val_loss: 1.9381e-04\n",
            "Epoch 95/250\n",
            "17/17 [==============================] - 8s 489ms/step - loss: 1.7815e-04 - val_loss: 1.5946e-04\n",
            "Epoch 96/250\n",
            "17/17 [==============================] - 8s 489ms/step - loss: 1.5857e-04 - val_loss: 1.7614e-04\n",
            "Epoch 97/250\n",
            "17/17 [==============================] - 8s 487ms/step - loss: 1.6251e-04 - val_loss: 1.5494e-04\n",
            "Epoch 98/250\n",
            "17/17 [==============================] - 8s 502ms/step - loss: 1.6786e-04 - val_loss: 1.6154e-04\n",
            "Epoch 99/250\n",
            "17/17 [==============================] - 8s 486ms/step - loss: 1.5687e-04 - val_loss: 1.6214e-04\n",
            "Epoch 100/250\n",
            "17/17 [==============================] - 8s 494ms/step - loss: 1.5411e-04 - val_loss: 1.6011e-04\n",
            "Epoch 101/250\n",
            "17/17 [==============================] - 8s 491ms/step - loss: 1.5679e-04 - val_loss: 1.5091e-04\n",
            "Epoch 102/250\n",
            "17/17 [==============================] - 8s 488ms/step - loss: 1.5560e-04 - val_loss: 1.4396e-04\n",
            "Epoch 103/250\n",
            "17/17 [==============================] - 8s 487ms/step - loss: 1.5682e-04 - val_loss: 1.4775e-04\n",
            "Epoch 104/250\n",
            "17/17 [==============================] - 8s 478ms/step - loss: 1.6308e-04 - val_loss: 1.8367e-04\n",
            "Epoch 105/250\n",
            "17/17 [==============================] - 8s 487ms/step - loss: 1.5341e-04 - val_loss: 1.5263e-04\n",
            "Epoch 106/250\n",
            "17/17 [==============================] - 8s 478ms/step - loss: 1.6629e-04 - val_loss: 1.7649e-04\n",
            "Epoch 107/250\n",
            "17/17 [==============================] - 8s 485ms/step - loss: 1.5510e-04 - val_loss: 1.4503e-04\n",
            "Epoch 108/250\n",
            "17/17 [==============================] - 8s 479ms/step - loss: 1.4638e-04 - val_loss: 1.5111e-04\n",
            "Epoch 109/250\n",
            "17/17 [==============================] - 8s 482ms/step - loss: 1.4768e-04 - val_loss: 1.5905e-04\n",
            "Epoch 110/250\n",
            "17/17 [==============================] - 8s 482ms/step - loss: 1.4530e-04 - val_loss: 1.5154e-04\n",
            "Epoch 111/250\n",
            "17/17 [==============================] - 8s 475ms/step - loss: 1.4711e-04 - val_loss: 1.4884e-04\n",
            "Epoch 112/250\n",
            "17/17 [==============================] - 8s 482ms/step - loss: 1.5916e-04 - val_loss: 1.3791e-04\n",
            "Epoch 113/250\n",
            "17/17 [==============================] - 8s 475ms/step - loss: 1.5192e-04 - val_loss: 1.4553e-04\n",
            "Epoch 114/250\n",
            "17/17 [==============================] - 8s 481ms/step - loss: 1.5899e-04 - val_loss: 1.3683e-04\n",
            "Epoch 115/250\n",
            "17/17 [==============================] - 8s 478ms/step - loss: 1.4417e-04 - val_loss: 1.3479e-04\n",
            "Epoch 116/250\n",
            "17/17 [==============================] - 8s 480ms/step - loss: 1.5343e-04 - val_loss: 1.4238e-04\n",
            "Epoch 117/250\n",
            "17/17 [==============================] - 8s 483ms/step - loss: 1.6002e-04 - val_loss: 1.9136e-04\n",
            "Epoch 118/250\n",
            "17/17 [==============================] - 8s 477ms/step - loss: 1.6390e-04 - val_loss: 1.4448e-04\n",
            "Epoch 119/250\n",
            "17/17 [==============================] - 8s 487ms/step - loss: 1.5111e-04 - val_loss: 1.4804e-04\n",
            "Epoch 120/250\n",
            "17/17 [==============================] - 8s 478ms/step - loss: 1.5023e-04 - val_loss: 1.3570e-04\n",
            "Epoch 121/250\n",
            "17/17 [==============================] - 8s 485ms/step - loss: 1.4673e-04 - val_loss: 1.3206e-04\n",
            "Epoch 122/250\n",
            "17/17 [==============================] - 8s 482ms/step - loss: 1.4218e-04 - val_loss: 1.4073e-04\n",
            "Epoch 123/250\n",
            "17/17 [==============================] - 8s 482ms/step - loss: 1.4044e-04 - val_loss: 1.3179e-04\n",
            "Epoch 124/250\n",
            "17/17 [==============================] - 8s 480ms/step - loss: 1.4470e-04 - val_loss: 1.3806e-04\n",
            "Epoch 125/250\n",
            "17/17 [==============================] - 8s 483ms/step - loss: 1.4140e-04 - val_loss: 1.3946e-04\n",
            "Epoch 126/250\n",
            "17/17 [==============================] - 8s 484ms/step - loss: 1.3715e-04 - val_loss: 1.3020e-04\n",
            "Epoch 127/250\n",
            "17/17 [==============================] - 8s 478ms/step - loss: 1.5494e-04 - val_loss: 1.2901e-04\n",
            "Epoch 128/250\n",
            "17/17 [==============================] - 8s 485ms/step - loss: 1.4465e-04 - val_loss: 1.3881e-04\n",
            "Epoch 129/250\n",
            "17/17 [==============================] - 8s 482ms/step - loss: 1.4062e-04 - val_loss: 1.3413e-04\n",
            "Epoch 130/250\n",
            "17/17 [==============================] - 8s 488ms/step - loss: 1.3705e-04 - val_loss: 1.5683e-04\n",
            "Epoch 131/250\n",
            "17/17 [==============================] - 8s 481ms/step - loss: 1.6638e-04 - val_loss: 1.5462e-04\n",
            "Epoch 132/250\n",
            "17/17 [==============================] - 8s 489ms/step - loss: 1.5564e-04 - val_loss: 1.3220e-04\n",
            "Epoch 133/250\n",
            "17/17 [==============================] - 8s 482ms/step - loss: 1.4373e-04 - val_loss: 1.5358e-04\n",
            "Epoch 134/250\n",
            "17/17 [==============================] - 8s 473ms/step - loss: 1.4905e-04 - val_loss: 1.3484e-04\n",
            "Epoch 135/250\n",
            "17/17 [==============================] - 8s 484ms/step - loss: 1.3943e-04 - val_loss: 1.2766e-04\n",
            "Epoch 136/250\n",
            "17/17 [==============================] - 8s 479ms/step - loss: 1.6042e-04 - val_loss: 1.4408e-04\n",
            "Epoch 137/250\n",
            "17/17 [==============================] - 8s 488ms/step - loss: 1.3774e-04 - val_loss: 1.3017e-04\n",
            "Epoch 138/250\n",
            "17/17 [==============================] - 8s 477ms/step - loss: 1.3851e-04 - val_loss: 1.2699e-04\n",
            "Epoch 139/250\n",
            "17/17 [==============================] - 8s 481ms/step - loss: 1.6205e-04 - val_loss: 1.2989e-04\n",
            "Epoch 140/250\n",
            "17/17 [==============================] - 8s 484ms/step - loss: 1.4695e-04 - val_loss: 1.2839e-04\n",
            "Epoch 141/250\n",
            "17/17 [==============================] - 8s 478ms/step - loss: 1.3768e-04 - val_loss: 1.2575e-04\n",
            "Epoch 142/250\n",
            "17/17 [==============================] - 8s 483ms/step - loss: 1.4095e-04 - val_loss: 1.2538e-04\n",
            "Epoch 143/250\n",
            "17/17 [==============================] - 8s 480ms/step - loss: 1.4044e-04 - val_loss: 1.2506e-04\n",
            "Epoch 144/250\n",
            "17/17 [==============================] - 8s 483ms/step - loss: 1.4549e-04 - val_loss: 1.4979e-04\n",
            "Epoch 145/250\n",
            "17/17 [==============================] - 8s 480ms/step - loss: 1.3826e-04 - val_loss: 1.2463e-04\n",
            "Epoch 146/250\n",
            "17/17 [==============================] - 8s 482ms/step - loss: 1.4260e-04 - val_loss: 1.2610e-04\n",
            "Epoch 147/250\n",
            "17/17 [==============================] - 8s 480ms/step - loss: 1.4938e-04 - val_loss: 1.2698e-04\n",
            "Epoch 148/250\n",
            "17/17 [==============================] - 8s 481ms/step - loss: 1.4940e-04 - val_loss: 1.3674e-04\n",
            "Epoch 149/250\n",
            "17/17 [==============================] - 8s 481ms/step - loss: 1.4234e-04 - val_loss: 1.3900e-04\n",
            "Epoch 150/250\n",
            "17/17 [==============================] - 8s 481ms/step - loss: 1.3868e-04 - val_loss: 1.2452e-04\n",
            "Epoch 151/250\n",
            "17/17 [==============================] - 8s 485ms/step - loss: 1.6593e-04 - val_loss: 1.2673e-04\n",
            "Epoch 152/250\n",
            "17/17 [==============================] - 8s 473ms/step - loss: 1.5102e-04 - val_loss: 1.3508e-04\n",
            "Epoch 153/250\n",
            "17/17 [==============================] - 8s 484ms/step - loss: 1.4330e-04 - val_loss: 1.2823e-04\n",
            "Epoch 154/250\n",
            "17/17 [==============================] - 8s 477ms/step - loss: 1.3873e-04 - val_loss: 1.2636e-04\n",
            "Epoch 155/250\n",
            "17/17 [==============================] - 8s 491ms/step - loss: 1.5385e-04 - val_loss: 1.2421e-04\n",
            "Epoch 156/250\n",
            "17/17 [==============================] - 8s 484ms/step - loss: 1.6785e-04 - val_loss: 1.3151e-04\n",
            "Epoch 157/250\n",
            "17/17 [==============================] - 8s 481ms/step - loss: 1.4711e-04 - val_loss: 1.3410e-04\n",
            "Epoch 158/250\n",
            "17/17 [==============================] - 8s 488ms/step - loss: 1.4345e-04 - val_loss: 1.2325e-04\n",
            "Epoch 159/250\n",
            "17/17 [==============================] - 8s 478ms/step - loss: 1.4822e-04 - val_loss: 1.3580e-04\n",
            "Epoch 160/250\n",
            "17/17 [==============================] - 8s 483ms/step - loss: 1.4957e-04 - val_loss: 1.2494e-04\n",
            "Epoch 161/250\n",
            "17/17 [==============================] - 8s 484ms/step - loss: 1.4362e-04 - val_loss: 1.3967e-04\n",
            "Epoch 162/250\n",
            "17/17 [==============================] - 8s 482ms/step - loss: 1.4514e-04 - val_loss: 1.2382e-04\n",
            "Epoch 163/250\n",
            "17/17 [==============================] - 8s 483ms/step - loss: 1.4891e-04 - val_loss: 1.4764e-04\n",
            "Epoch 164/250\n",
            "17/17 [==============================] - 8s 486ms/step - loss: 1.4032e-04 - val_loss: 1.3254e-04\n",
            "Epoch 165/250\n",
            "17/17 [==============================] - 8s 480ms/step - loss: 1.4841e-04 - val_loss: 1.2186e-04\n",
            "Epoch 166/250\n",
            "17/17 [==============================] - 8s 475ms/step - loss: 1.4213e-04 - val_loss: 1.2165e-04\n",
            "Epoch 167/250\n",
            "17/17 [==============================] - 8s 486ms/step - loss: 1.4593e-04 - val_loss: 1.2596e-04\n",
            "Epoch 168/250\n",
            "17/17 [==============================] - 8s 480ms/step - loss: 1.4047e-04 - val_loss: 1.2856e-04\n",
            "Epoch 169/250\n",
            "17/17 [==============================] - 8s 484ms/step - loss: 1.4241e-04 - val_loss: 1.4167e-04\n",
            "Epoch 170/250\n",
            "17/17 [==============================] - 8s 483ms/step - loss: 1.3592e-04 - val_loss: 1.2986e-04\n",
            "Epoch 171/250\n",
            "17/17 [==============================] - 8s 479ms/step - loss: 1.5748e-04 - val_loss: 1.4278e-04\n",
            "Epoch 172/250\n",
            "17/17 [==============================] - 8s 490ms/step - loss: 1.3830e-04 - val_loss: 1.2248e-04\n",
            "Epoch 173/250\n",
            "17/17 [==============================] - 8s 482ms/step - loss: 1.3770e-04 - val_loss: 1.6524e-04\n",
            "Epoch 174/250\n",
            "17/17 [==============================] - 8s 491ms/step - loss: 1.5191e-04 - val_loss: 1.2983e-04\n",
            "Epoch 175/250\n",
            "17/17 [==============================] - 8s 484ms/step - loss: 1.4417e-04 - val_loss: 1.2099e-04\n",
            "Epoch 176/250\n",
            "17/17 [==============================] - 8s 487ms/step - loss: 1.4431e-04 - val_loss: 1.2148e-04\n",
            "Epoch 177/250\n",
            "17/17 [==============================] - 8s 482ms/step - loss: 1.6051e-04 - val_loss: 1.2534e-04\n",
            "Epoch 178/250\n",
            "17/17 [==============================] - 8s 480ms/step - loss: 1.4067e-04 - val_loss: 1.2015e-04\n",
            "Epoch 179/250\n",
            "17/17 [==============================] - 8s 493ms/step - loss: 1.3976e-04 - val_loss: 1.1979e-04\n",
            "Epoch 180/250\n",
            "17/17 [==============================] - 8s 485ms/step - loss: 1.4284e-04 - val_loss: 1.2061e-04\n",
            "Epoch 181/250\n",
            "17/17 [==============================] - 8s 490ms/step - loss: 1.4937e-04 - val_loss: 1.1986e-04\n",
            "Epoch 182/250\n",
            "17/17 [==============================] - 8s 483ms/step - loss: 1.3941e-04 - val_loss: 1.2079e-04\n",
            "Epoch 183/250\n",
            "17/17 [==============================] - 8s 482ms/step - loss: 1.4978e-04 - val_loss: 1.2775e-04\n",
            "Epoch 184/250\n",
            "17/17 [==============================] - 8s 482ms/step - loss: 1.4074e-04 - val_loss: 1.2149e-04\n",
            "Epoch 185/250\n",
            "17/17 [==============================] - 8s 481ms/step - loss: 1.4490e-04 - val_loss: 1.2709e-04\n",
            "Epoch 186/250\n",
            "17/17 [==============================] - 8s 485ms/step - loss: 1.5472e-04 - val_loss: 1.3226e-04\n",
            "Epoch 187/250\n",
            "17/17 [==============================] - 8s 483ms/step - loss: 1.5248e-04 - val_loss: 1.2519e-04\n",
            "Epoch 188/250\n",
            "17/17 [==============================] - 8s 492ms/step - loss: 1.4418e-04 - val_loss: 1.1942e-04\n",
            "Epoch 189/250\n",
            "17/17 [==============================] - 8s 485ms/step - loss: 1.3440e-04 - val_loss: 1.2157e-04\n",
            "Epoch 190/250\n",
            "17/17 [==============================] - 8s 484ms/step - loss: 1.3453e-04 - val_loss: 1.2385e-04\n",
            "Epoch 191/250\n",
            "17/17 [==============================] - 8s 484ms/step - loss: 1.3617e-04 - val_loss: 1.4620e-04\n",
            "Epoch 192/250\n",
            "17/17 [==============================] - 8s 481ms/step - loss: 1.3564e-04 - val_loss: 1.1794e-04\n",
            "Epoch 193/250\n",
            "17/17 [==============================] - 8s 486ms/step - loss: 1.3707e-04 - val_loss: 1.1841e-04\n",
            "Epoch 194/250\n",
            "17/17 [==============================] - 8s 478ms/step - loss: 1.3520e-04 - val_loss: 1.1983e-04\n",
            "Epoch 195/250\n",
            "17/17 [==============================] - 8s 480ms/step - loss: 1.3711e-04 - val_loss: 1.5304e-04\n",
            "Epoch 196/250\n",
            "17/17 [==============================] - 8s 483ms/step - loss: 1.4377e-04 - val_loss: 1.9140e-04\n",
            "Epoch 197/250\n",
            "17/17 [==============================] - 8s 484ms/step - loss: 1.4455e-04 - val_loss: 1.1841e-04\n",
            "Epoch 198/250\n",
            "17/17 [==============================] - 8s 480ms/step - loss: 1.5073e-04 - val_loss: 1.3021e-04\n",
            "Epoch 199/250\n",
            "17/17 [==============================] - 8s 479ms/step - loss: 1.4470e-04 - val_loss: 1.1784e-04\n",
            "Epoch 200/250\n",
            "17/17 [==============================] - 8s 481ms/step - loss: 1.3441e-04 - val_loss: 1.1680e-04\n",
            "Epoch 201/250\n",
            "17/17 [==============================] - 8s 480ms/step - loss: 1.4121e-04 - val_loss: 1.1817e-04\n",
            "Epoch 202/250\n",
            "17/17 [==============================] - 8s 483ms/step - loss: 1.4600e-04 - val_loss: 1.8235e-04\n",
            "Epoch 203/250\n",
            "17/17 [==============================] - 8s 483ms/step - loss: 1.5782e-04 - val_loss: 1.2276e-04\n",
            "Epoch 204/250\n",
            "17/17 [==============================] - 8s 477ms/step - loss: 1.7138e-04 - val_loss: 1.8696e-04\n",
            "Epoch 205/250\n",
            "17/17 [==============================] - 8s 485ms/step - loss: 1.6762e-04 - val_loss: 1.1719e-04\n",
            "Epoch 206/250\n",
            "17/17 [==============================] - 8s 476ms/step - loss: 1.4211e-04 - val_loss: 1.3981e-04\n",
            "Epoch 207/250\n",
            "17/17 [==============================] - 8s 482ms/step - loss: 1.3772e-04 - val_loss: 1.3141e-04\n",
            "Epoch 208/250\n",
            "17/17 [==============================] - 8s 476ms/step - loss: 1.3697e-04 - val_loss: 1.3502e-04\n",
            "Epoch 209/250\n",
            "17/17 [==============================] - 8s 482ms/step - loss: 1.3960e-04 - val_loss: 1.2591e-04\n",
            "Epoch 210/250\n",
            "17/17 [==============================] - 8s 482ms/step - loss: 1.4570e-04 - val_loss: 1.2555e-04\n",
            "Epoch 211/250\n",
            "17/17 [==============================] - 8s 484ms/step - loss: 1.5742e-04 - val_loss: 1.4689e-04\n",
            "Epoch 212/250\n",
            "17/17 [==============================] - 8s 477ms/step - loss: 1.8518e-04 - val_loss: 1.4400e-04\n",
            "Epoch 213/250\n",
            "17/17 [==============================] - 8s 483ms/step - loss: 1.4709e-04 - val_loss: 1.1800e-04\n",
            "Epoch 214/250\n",
            "17/17 [==============================] - 8s 485ms/step - loss: 1.3837e-04 - val_loss: 1.3241e-04\n",
            "Epoch 215/250\n",
            "17/17 [==============================] - 8s 475ms/step - loss: 1.4408e-04 - val_loss: 1.2710e-04\n",
            "Epoch 216/250\n",
            "17/17 [==============================] - 8s 486ms/step - loss: 1.4321e-04 - val_loss: 1.2176e-04\n",
            "Epoch 217/250\n",
            "17/17 [==============================] - 8s 472ms/step - loss: 1.3822e-04 - val_loss: 1.1835e-04\n",
            "Epoch 218/250\n",
            "17/17 [==============================] - 8s 483ms/step - loss: 1.3472e-04 - val_loss: 1.2252e-04\n",
            "Epoch 219/250\n",
            "17/17 [==============================] - 8s 477ms/step - loss: 1.4139e-04 - val_loss: 1.1585e-04\n",
            "Epoch 220/250\n",
            "17/17 [==============================] - 8s 480ms/step - loss: 1.7324e-04 - val_loss: 1.1453e-04\n",
            "Epoch 221/250\n",
            "17/17 [==============================] - 8s 481ms/step - loss: 1.4248e-04 - val_loss: 1.2367e-04\n",
            "Epoch 222/250\n",
            "17/17 [==============================] - 8s 477ms/step - loss: 1.3875e-04 - val_loss: 1.1748e-04\n",
            "Epoch 223/250\n",
            "17/17 [==============================] - 8s 484ms/step - loss: 1.4630e-04 - val_loss: 1.3844e-04\n",
            "Epoch 224/250\n",
            "17/17 [==============================] - 8s 487ms/step - loss: 1.6406e-04 - val_loss: 1.4065e-04\n",
            "Epoch 225/250\n",
            "17/17 [==============================] - 8s 482ms/step - loss: 1.3790e-04 - val_loss: 1.3148e-04\n",
            "Epoch 226/250\n",
            "17/17 [==============================] - 8s 479ms/step - loss: 1.7089e-04 - val_loss: 1.7012e-04\n",
            "Epoch 227/250\n",
            "17/17 [==============================] - 8s 481ms/step - loss: 1.7264e-04 - val_loss: 1.1416e-04\n",
            "Epoch 228/250\n",
            "17/17 [==============================] - 8s 487ms/step - loss: 1.3537e-04 - val_loss: 1.1820e-04\n",
            "Epoch 229/250\n",
            "17/17 [==============================] - 8s 482ms/step - loss: 1.3844e-04 - val_loss: 1.3729e-04\n",
            "Epoch 230/250\n",
            "17/17 [==============================] - 8s 482ms/step - loss: 1.4333e-04 - val_loss: 1.1914e-04\n",
            "Epoch 231/250\n",
            "17/17 [==============================] - 8s 481ms/step - loss: 1.5554e-04 - val_loss: 1.3089e-04\n",
            "Epoch 232/250\n",
            "17/17 [==============================] - 8s 489ms/step - loss: 1.4902e-04 - val_loss: 1.1340e-04\n",
            "Epoch 233/250\n",
            "17/17 [==============================] - 8s 482ms/step - loss: 1.4666e-04 - val_loss: 1.1459e-04\n",
            "Epoch 234/250\n",
            "17/17 [==============================] - 8s 483ms/step - loss: 1.4071e-04 - val_loss: 1.2729e-04\n",
            "Epoch 235/250\n",
            "17/17 [==============================] - 8s 479ms/step - loss: 1.5127e-04 - val_loss: 1.2223e-04\n",
            "Epoch 236/250\n",
            "17/17 [==============================] - 8s 484ms/step - loss: 1.5305e-04 - val_loss: 1.2167e-04\n",
            "Epoch 237/250\n",
            "17/17 [==============================] - 8s 481ms/step - loss: 1.4046e-04 - val_loss: 1.1385e-04\n",
            "Epoch 238/250\n",
            "17/17 [==============================] - 8s 476ms/step - loss: 1.3632e-04 - val_loss: 1.3917e-04\n",
            "Epoch 239/250\n",
            "17/17 [==============================] - 8s 480ms/step - loss: 1.3390e-04 - val_loss: 1.1131e-04\n",
            "Epoch 240/250\n",
            "17/17 [==============================] - 8s 478ms/step - loss: 1.4119e-04 - val_loss: 1.2527e-04\n",
            "Epoch 241/250\n",
            "17/17 [==============================] - 8s 478ms/step - loss: 1.4118e-04 - val_loss: 1.1374e-04\n",
            "Epoch 242/250\n",
            "17/17 [==============================] - 8s 482ms/step - loss: 1.3492e-04 - val_loss: 1.4430e-04\n",
            "Epoch 243/250\n",
            "17/17 [==============================] - 8s 480ms/step - loss: 1.5081e-04 - val_loss: 1.5915e-04\n",
            "Epoch 244/250\n",
            "17/17 [==============================] - 8s 483ms/step - loss: 1.5029e-04 - val_loss: 1.1207e-04\n",
            "Epoch 245/250\n",
            "17/17 [==============================] - 8s 479ms/step - loss: 1.3557e-04 - val_loss: 1.2862e-04\n",
            "Epoch 246/250\n",
            "17/17 [==============================] - 8s 490ms/step - loss: 1.4325e-04 - val_loss: 1.2683e-04\n",
            "Epoch 247/250\n",
            "17/17 [==============================] - 8s 479ms/step - loss: 1.5728e-04 - val_loss: 1.2355e-04\n",
            "Epoch 248/250\n",
            "17/17 [==============================] - 8s 488ms/step - loss: 1.6392e-04 - val_loss: 1.1562e-04\n",
            "Epoch 249/250\n",
            "17/17 [==============================] - 8s 481ms/step - loss: 1.4672e-04 - val_loss: 1.1407e-04\n",
            "Epoch 250/250\n",
            "17/17 [==============================] - 8s 478ms/step - loss: 1.3378e-04 - val_loss: 1.1183e-04\n"
          ]
        },
        {
          "output_type": "execute_result",
          "data": {
            "text/plain": [
              "<keras.callbacks.History at 0x7f9ad9fb03d0>"
            ]
          },
          "metadata": {},
          "execution_count": 23
        }
      ]
    },
    {
      "cell_type": "code",
      "metadata": {
        "id": "oTZPCTcF9wXX"
      },
      "source": [
        "import tensorflow as tf"
      ],
      "execution_count": 1,
      "outputs": []
    },
    {
      "cell_type": "code",
      "metadata": {
        "id": "JjkGTHv_Dirf"
      },
      "source": [
        "### Lets Do the prediction and check performance metrics\n",
        "train_predict=model.predict(x_train)\n",
        "test_predict=model.predict(x_test)"
      ],
      "execution_count": 26,
      "outputs": []
    },
    {
      "cell_type": "code",
      "metadata": {
        "id": "hA3CzAvLDmH1"
      },
      "source": [
        "##Transformback to original form\n",
        "train_predict=scaler.inverse_transform(train_predict)\n",
        "test_predict=scaler.inverse_transform(test_predict)\n"
      ],
      "execution_count": 27,
      "outputs": []
    },
    {
      "cell_type": "code",
      "metadata": {
        "id": "jnx9wWFcDmq-",
        "colab": {
          "base_uri": "https://localhost:8080/"
        },
        "outputId": "34ed72c5-4a40-473a-86a7-6b5792d56e18"
      },
      "source": [
        "### Calculate RMSE performance metrics\n",
        "import math\n",
        "from sklearn.metrics import mean_squared_error\n",
        "math.sqrt(mean_squared_error(y_train,train_predict))"
      ],
      "execution_count": 28,
      "outputs": [
        {
          "output_type": "execute_result",
          "data": {
            "text/plain": [
              "144.31950701125305"
            ]
          },
          "metadata": {},
          "execution_count": 28
        }
      ]
    },
    {
      "cell_type": "code",
      "metadata": {
        "id": "dQV5l9mNDurP",
        "colab": {
          "base_uri": "https://localhost:8080/"
        },
        "outputId": "6be73e40-4391-4e64-fa25-5f138ee5f526"
      },
      "source": [
        "### Test Data RMSE\n",
        "math.sqrt(mean_squared_error(y_test,test_predict))"
      ],
      "execution_count": 30,
      "outputs": [
        {
          "output_type": "execute_result",
          "data": {
            "text/plain": [
              "105.73056753117211"
            ]
          },
          "metadata": {},
          "execution_count": 30
        }
      ]
    },
    {
      "cell_type": "code",
      "metadata": {
        "id": "XmanNJHo5zHV"
      },
      "source": [
        "import numpy"
      ],
      "execution_count": 37,
      "outputs": []
    },
    {
      "cell_type": "code",
      "metadata": {
        "id": "YNkZ0NCLDun_",
        "colab": {
          "base_uri": "https://localhost:8080/",
          "height": 265
        },
        "outputId": "a3d963f8-a9dc-4c2e-f7ce-34e33cf34fc4"
      },
      "source": [
        "### Plotting \n",
        "# shift train predictions for plotting\n",
        "look_back=100\n",
        "trainPredictPlot = numpy.empty_like(df)\n",
        "trainPredictPlot[:, :] = np.nan\n",
        "trainPredictPlot[look_back:len(train_predict)+look_back, :] = train_predict\n",
        "# shift test predictions for plotting\n",
        "testPredictPlot = numpy.empty_like(df)\n",
        "testPredictPlot[:, :] = numpy.nan\n",
        "testPredictPlot[len(train_predict)+(look_back*2)+1:len(df)-1, :] = test_predict\n",
        "# plot baseline and predictions\n",
        "plt.plot(scaler.inverse_transform(df))\n",
        "plt.plot(trainPredictPlot)\n",
        "plt.plot(testPredictPlot)\n",
        "plt.show()"
      ],
      "execution_count": 41,
      "outputs": [
        {
          "output_type": "display_data",
          "data": {
            "image/png": "[encoded data removed]",
            "text/plain": [
              "<Figure size 432x288 with 1 Axes>"
            ]
          },
          "metadata": {
            "needs_background": "light"
          }
        }
      ]
    }
  ]
}